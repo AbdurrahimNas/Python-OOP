{
 "cells": [
  {
   "cell_type": "code",
   "execution_count": null,
   "metadata": {},
   "outputs": [],
   "source": [
    "class DESC:\n",
    "    \"\"\"A descriptor to set some constraints.\n",
    "    Helps users to fill valid GRE and SAT score to students profile.\n",
    "    \"\"\"\n",
    "\n",
    "    def __init__(self, score = None):\n",
    "        \"\"\"Constructor method\"\"\"\n",
    "        self.score = score \n",
    "\n",
    "    def __set_name__(self, owner, name):\n",
    "        \"\"\"Sets the name from the assigned one to the DESC class\"\"\"\n",
    "        self.name = name \n",
    "\n",
    "    def __get__(self, instance, owner):\n",
    "        \"\"\"get method\"\"\"\n",
    "        return instance.__dict__.get(f\"{self.name}\")\n",
    "    \n",
    "    def __set__(self, instance, value):\n",
    "        \"\"\"set methot to set some constraints\"\"\"\n",
    "        if not type(value) == int:\n",
    "            raise TypeError(f\"The given value {type(value)} is not integer\")\n",
    "        \n",
    "        if self.name == \"GRE_Score\":\n",
    "            if not (value >= 130 and value <= 340):\n",
    "                raise ValueError(f\"The value should be between 130-340 not {value}\")\n",
    "            instance.__dict__[f\"{self.name}\"] = value\n",
    "\n",
    "        if self.name == \"SAT_Score\":\n",
    "            if not (value >= 400 and value <= 1600):\n",
    "                raise ValueError(f\"The value should be between 400-1600 not {value}\")\n",
    "            instance.__dict__[f\"{self.name}\"] = value \n",
    "\n",
    "class StudentProfile:\n",
    "    GRE_Score = DESC()\n",
    "    SAT_Score = DESC() \n",
    "\n",
    "    def __init__(self, name, GRE_Score = 130, SAT_Score = 400):\n",
    "        \"\"\"Constructor method\"\"\"\n",
    "        self.GRE_Score = GRE_Score \n",
    "        self.SAT_Score = SAT_Score \n",
    "        self.name = name "
   ]
  }
 ],
 "metadata": {
  "kernelspec": {
   "display_name": "Python 3",
   "language": "python",
   "name": "python3"
  },
  "language_info": {
   "name": "python",
   "version": "3.10.4"
  },
  "orig_nbformat": 4
 },
 "nbformat": 4,
 "nbformat_minor": 2
}
