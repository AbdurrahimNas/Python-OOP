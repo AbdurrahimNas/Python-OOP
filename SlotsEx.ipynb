{
 "cells": [
  {
   "cell_type": "code",
   "execution_count": null,
   "metadata": {},
   "outputs": [],
   "source": [
    "class Point3D(object):\n",
    "    \"\"\"Basic object to demonstrate slots \"\"\"\n",
    "    __slots__ = (\"x\", \"y\", \"z\")\n",
    "\n",
    "    def __init__(self, x, y, z):\n",
    "        \"\"\"Constructor method\"\"\"\n",
    "        self.x = x\n",
    "        self.y = y\n",
    "        self.z = z\n",
    "\n",
    "    def __repr__(self):\n",
    "        \"\"\"REPR method\"\"\"\n",
    "        return f\"{self.__class__.__name__}('{self.x}', '{self.y}', '{self.z}')\"\n",
    "\n",
    "\n",
    "class ColoredPoint(Point3D):\n",
    "    \"\"\"Inherits from Point3D and adds colour feature\"\"\"\n",
    "    __slots__ = (\"color\",)\n",
    "    def __init__(self, *args, color = \"black\", **kwargs):\n",
    "        \"\"\"Constructor method\"\"\"\n",
    "        self.color = color\n",
    "        super.__init__(*args, **kwargs)\n",
    "\n",
    "class ShapedPoint(Point3D):\n",
    "    \"\"\"Inherits from Point3D and adds shape feature\"\"\"\n",
    "    __slots__ =  (\"shape\",)\n",
    "\n",
    "    def __init__(self, *args, shape = \"sphere\", **kwargs):\n",
    "        \"\"\"Constructor method\"\"\"\n",
    "        self.shape = shape\n",
    "        super.__init__(*args, **kwargs)\n"
   ]
  }
 ],
 "metadata": {
  "kernelspec": {
   "display_name": "Python 3",
   "language": "python",
   "name": "python3"
  },
  "language_info": {
   "name": "python",
   "version": "3.10.4"
  },
  "orig_nbformat": 4
 },
 "nbformat": 4,
 "nbformat_minor": 2
}
